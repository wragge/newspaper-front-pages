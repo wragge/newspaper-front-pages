{
 "cells": [
  {
   "cell_type": "markdown",
   "id": "7ebbebe1-b018-4770-bc5e-6104aa5e4d34",
   "metadata": {},
   "source": [
    "# Harvest articles published on page one of newspapers\n",
    "\n",
    "We're going to use the Trove Newspaper Harvester as a library, rather than a command line tool. This makes it easier to manage the results of very large harvests. Instead of converting everything into a CSV file, which is the Harvester's default behaviour, we'll just save the API results into an `ndjson` file (one JSON object per line). Then in another notebook we'll filter and convert the data into a more compact dataset."
   ]
  },
  {
   "cell_type": "code",
   "execution_count": 1,
   "id": "27667834-d179-4e21-8294-7dd43cc46b11",
   "metadata": {},
   "outputs": [],
   "source": [
    "import os\n",
    "\n",
    "from trove_newspaper_harvester.core import Harvester, prepare_query"
   ]
  },
  {
   "cell_type": "code",
   "execution_count": 7,
   "id": "73853861-8c9f-430b-8b15-73ca36aa9c30",
   "metadata": {},
   "outputs": [],
   "source": [
    "%%capture\n",
    "# Load variables from the .env file if it exists\n",
    "# Use %%capture to suppress messages\n",
    "%load_ext dotenv\n",
    "%dotenv"
   ]
  },
  {
   "cell_type": "code",
   "execution_count": 8,
   "id": "892af7ae-14fd-4f42-8d6b-0289b0576f10",
   "metadata": {},
   "outputs": [],
   "source": [
    "# Insert your Trove API key\n",
    "API_KEY = \"YOUR API KEY\"\n",
    "\n",
    "# Use api key value from environment variables if it is available\n",
    "if os.getenv(\"TROVE_API_KEY\"):\n",
    "    API_KEY = os.getenv(\"TROVE_API_KEY\")"
   ]
  },
  {
   "cell_type": "code",
   "execution_count": 9,
   "id": "24991234-a03a-40af-91c8-f107138a9c56",
   "metadata": {},
   "outputs": [],
   "source": [
    "# This is the query to search for articles on page one from the web interface\n",
    "query = \"https://trove.nla.gov.au/search/category/newspapers?keyword=firstpageseq%3A1\"\n",
    "\n",
    "# Convert the web interface query into a set of parameters for the API\n",
    "query_params = prepare_query(query=query, api_key=API_KEY)"
   ]
  },
  {
   "cell_type": "code",
   "execution_count": 10,
   "id": "4003e1d3-8add-4d2b-88bb-dc4c3b88198a",
   "metadata": {},
   "outputs": [
    {
     "data": {
      "text/plain": [
       "{'q': 'firstpageseq:1',\n",
       " 'zone': 'newspaper',\n",
       " 'key': 'gq29l1g1h75pimh4',\n",
       " 'encoding': 'json',\n",
       " 'reclevel': 'full',\n",
       " 'bulkHarvest': 'true'}"
      ]
     },
     "execution_count": 10,
     "metadata": {},
     "output_type": "execute_result"
    }
   ],
   "source": [
    "query_params"
   ]
  },
  {
   "cell_type": "code",
   "execution_count": 11,
   "id": "5958b7f7-04c3-4b1f-9a82-0fb2276e41e5",
   "metadata": {},
   "outputs": [],
   "source": [
    "# Initiate the harvester with the parameters\n",
    "harvester = Harvester(query_params=query_params)"
   ]
  },
  {
   "cell_type": "code",
   "execution_count": null,
   "id": "a9853df9-2f33-4278-a265-d0bbb519df5d",
   "metadata": {},
   "outputs": [],
   "source": [
    "# Start the harvest\n",
    "harvester.harvest()"
   ]
  },
  {
   "cell_type": "markdown",
   "id": "4a876f57-4971-413e-996e-59c2f90bb0f9",
   "metadata": {},
   "source": [
    "The data will be saved into a `results.ndjson` file, in a sub-directory of `data` named according to the current date and time. If the harvest is interrupted, add a `harvest_dir` parameter to the `Harvester()` initialisation with the value set to the name of the current harvest directory, for example `20230722015049`. Then run `harvester.harvest()` again to pick up where things left off."
   ]
  },
  {
   "cell_type": "code",
   "execution_count": null,
   "id": "59cab5d2-dc17-4d5a-9774-9e556bdcb1d1",
   "metadata": {},
   "outputs": [],
   "source": []
  }
 ],
 "metadata": {
  "kernelspec": {
   "display_name": "Python 3 (ipykernel)",
   "language": "python",
   "name": "python3"
  },
  "language_info": {
   "codemirror_mode": {
    "name": "ipython",
    "version": 3
   },
   "file_extension": ".py",
   "mimetype": "text/x-python",
   "name": "python",
   "nbconvert_exporter": "python",
   "pygments_lexer": "ipython3",
   "version": "3.10.12"
  }
 },
 "nbformat": 4,
 "nbformat_minor": 5
}
